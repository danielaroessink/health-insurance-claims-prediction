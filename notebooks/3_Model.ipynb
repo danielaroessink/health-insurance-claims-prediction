{
 "cells": [
  {
   "cell_type": "markdown",
   "id": "af2a8247-e63d-40ad-bd28-17f47a576d79",
   "metadata": {},
   "source": [
    "# Machine Learning modelling for Insurance claims prediction\n",
    "\n",
    "## Intro\n",
    "### Objective\n",
    "In this notebook, we aim to build a machine learning model to predict whether an insurance claim will be filed based on policyholder characteristics. We will evaluate different models and select the one that provides the best performance.\n",
    "\n",
    "### Steps\n",
    "1. Load the preprocessed data (see notebook 3_Feature_Engineering)\n",
    "2. Split the data into training and testing sets\n",
    "3. Train multiple classification models and evaluate them\n",
    "4. Fine-tune the best-performing model\n",
    "5. Save the final model for future uses."
   ]
  },
  {
   "cell_type": "markdown",
   "id": "0648ef34-d4b5-4671-add9-d57d6ebda8a1",
   "metadata": {},
   "source": [
    "# 1. Load Data"
   ]
  },
  {
   "cell_type": "code",
   "execution_count": 5,
   "id": "dce700f5-269c-4414-8ee6-817429f8eda0",
   "metadata": {},
   "outputs": [
    {
     "data": {
      "text/html": [
       "<div>\n",
       "<style scoped>\n",
       "    .dataframe tbody tr th:only-of-type {\n",
       "        vertical-align: middle;\n",
       "    }\n",
       "\n",
       "    .dataframe tbody tr th {\n",
       "        vertical-align: top;\n",
       "    }\n",
       "\n",
       "    .dataframe thead th {\n",
       "        text-align: right;\n",
       "    }\n",
       "</style>\n",
       "<table border=\"1\" class=\"dataframe\">\n",
       "  <thead>\n",
       "    <tr style=\"text-align: right;\">\n",
       "      <th></th>\n",
       "      <th>charges</th>\n",
       "      <th>sex_encoded</th>\n",
       "      <th>smoker_encoded</th>\n",
       "      <th>region_northwest</th>\n",
       "      <th>region_southeast</th>\n",
       "      <th>region_southwest</th>\n",
       "      <th>child_1</th>\n",
       "      <th>child_2</th>\n",
       "      <th>child_3</th>\n",
       "      <th>child_4</th>\n",
       "      <th>child_5</th>\n",
       "      <th>age_scaled</th>\n",
       "      <th>log_bmi_scaled</th>\n",
       "    </tr>\n",
       "  </thead>\n",
       "  <tbody>\n",
       "    <tr>\n",
       "      <th>0</th>\n",
       "      <td>16884.92400</td>\n",
       "      <td>0</td>\n",
       "      <td>1</td>\n",
       "      <td>0.0</td>\n",
       "      <td>0.0</td>\n",
       "      <td>1.0</td>\n",
       "      <td>0.0</td>\n",
       "      <td>0.0</td>\n",
       "      <td>0.0</td>\n",
       "      <td>0.0</td>\n",
       "      <td>0.0</td>\n",
       "      <td>-1.438764</td>\n",
       "      <td>-0.370580</td>\n",
       "    </tr>\n",
       "    <tr>\n",
       "      <th>1</th>\n",
       "      <td>1725.55230</td>\n",
       "      <td>1</td>\n",
       "      <td>0</td>\n",
       "      <td>0.0</td>\n",
       "      <td>1.0</td>\n",
       "      <td>0.0</td>\n",
       "      <td>1.0</td>\n",
       "      <td>0.0</td>\n",
       "      <td>0.0</td>\n",
       "      <td>0.0</td>\n",
       "      <td>0.0</td>\n",
       "      <td>-1.509965</td>\n",
       "      <td>0.574704</td>\n",
       "    </tr>\n",
       "    <tr>\n",
       "      <th>2</th>\n",
       "      <td>4449.46200</td>\n",
       "      <td>1</td>\n",
       "      <td>0</td>\n",
       "      <td>0.0</td>\n",
       "      <td>1.0</td>\n",
       "      <td>0.0</td>\n",
       "      <td>0.0</td>\n",
       "      <td>0.0</td>\n",
       "      <td>1.0</td>\n",
       "      <td>0.0</td>\n",
       "      <td>0.0</td>\n",
       "      <td>-0.797954</td>\n",
       "      <td>0.460223</td>\n",
       "    </tr>\n",
       "    <tr>\n",
       "      <th>3</th>\n",
       "      <td>21984.47061</td>\n",
       "      <td>1</td>\n",
       "      <td>0</td>\n",
       "      <td>1.0</td>\n",
       "      <td>0.0</td>\n",
       "      <td>0.0</td>\n",
       "      <td>0.0</td>\n",
       "      <td>0.0</td>\n",
       "      <td>0.0</td>\n",
       "      <td>0.0</td>\n",
       "      <td>0.0</td>\n",
       "      <td>-0.441948</td>\n",
       "      <td>-1.383560</td>\n",
       "    </tr>\n",
       "    <tr>\n",
       "      <th>4</th>\n",
       "      <td>3866.85520</td>\n",
       "      <td>1</td>\n",
       "      <td>0</td>\n",
       "      <td>1.0</td>\n",
       "      <td>0.0</td>\n",
       "      <td>0.0</td>\n",
       "      <td>0.0</td>\n",
       "      <td>0.0</td>\n",
       "      <td>0.0</td>\n",
       "      <td>0.0</td>\n",
       "      <td>0.0</td>\n",
       "      <td>-0.513149</td>\n",
       "      <td>-0.200105</td>\n",
       "    </tr>\n",
       "  </tbody>\n",
       "</table>\n",
       "</div>"
      ],
      "text/plain": [
       "       charges  sex_encoded  smoker_encoded  region_northwest  \\\n",
       "0  16884.92400            0               1               0.0   \n",
       "1   1725.55230            1               0               0.0   \n",
       "2   4449.46200            1               0               0.0   \n",
       "3  21984.47061            1               0               1.0   \n",
       "4   3866.85520            1               0               1.0   \n",
       "\n",
       "   region_southeast  region_southwest  child_1  child_2  child_3  child_4  \\\n",
       "0               0.0               1.0      0.0      0.0      0.0      0.0   \n",
       "1               1.0               0.0      1.0      0.0      0.0      0.0   \n",
       "2               1.0               0.0      0.0      0.0      1.0      0.0   \n",
       "3               0.0               0.0      0.0      0.0      0.0      0.0   \n",
       "4               0.0               0.0      0.0      0.0      0.0      0.0   \n",
       "\n",
       "   child_5  age_scaled  log_bmi_scaled  \n",
       "0      0.0   -1.438764       -0.370580  \n",
       "1      0.0   -1.509965        0.574704  \n",
       "2      0.0   -0.797954        0.460223  \n",
       "3      0.0   -0.441948       -1.383560  \n",
       "4      0.0   -0.513149       -0.200105  "
      ]
     },
     "execution_count": 5,
     "metadata": {},
     "output_type": "execute_result"
    }
   ],
   "source": [
    "# Import libraries\n",
    "import pandas as pd\n",
    "\n",
    "# Load the preprocessed datasets\n",
    "data = pd.read_csv('../data/processed_data.csv')\n",
    "data.head()"
   ]
  },
  {
   "cell_type": "markdown",
   "id": "07c17eea-83a7-49de-b8ba-daa2fad0a902",
   "metadata": {},
   "source": [
    "# 2. Split Data\n",
    "Separate features and target and split into training and testing sets"
   ]
  },
  {
   "cell_type": "code",
   "execution_count": 7,
   "id": "fd6a27b8-a91a-441c-b509-e2905e22ffcc",
   "metadata": {},
   "outputs": [
    {
     "name": "stdout",
     "output_type": "stream",
     "text": [
      "Training data shape: (1070, 12)\n",
      "Testing data shape: (268, 12)\n"
     ]
    }
   ],
   "source": [
    "from sklearn.model_selection import train_test_split\n",
    "\n",
    "# Separate features and target variable\n",
    "X = data.drop(columns=['charges'])\n",
    "y = data['charges']\n",
    "\n",
    "# Split into train / test sets\n",
    "X_train, X_test, y_train, y_test = train_test_split(X, y, test_size = 0.2, random_state=42)\n",
    "\n",
    "print(f\"Training data shape: {X_train.shape}\")\n",
    "print(f\"Testing data shape: {X_test.shape}\")"
   ]
  },
  {
   "cell_type": "markdown",
   "id": "8b79e36e-a3af-4da1-96c4-6c0842358fba",
   "metadata": {},
   "source": [
    "# 3. Model selection\n",
    "Train multiple models (e.g. RandomForest, XGBoost) and compare their performance"
   ]
  },
  {
   "cell_type": "code",
   "execution_count": 28,
   "id": "ef53ce16-8c18-4801-9218-7d774e9eb0a4",
   "metadata": {},
   "outputs": [
    {
     "name": "stdout",
     "output_type": "stream",
     "text": [
      "Collecting xgboost\n",
      "  Downloading xgboost-3.0.0-py3-none-macosx_10_15_x86_64.whl.metadata (2.1 kB)\n",
      "Requirement already satisfied: numpy in /opt/anaconda3/lib/python3.12/site-packages (from xgboost) (1.26.4)\n",
      "Requirement already satisfied: scipy in /opt/anaconda3/lib/python3.12/site-packages (from xgboost) (1.13.1)\n",
      "Downloading xgboost-3.0.0-py3-none-macosx_10_15_x86_64.whl (2.2 MB)\n",
      "\u001b[2K   \u001b[90m━━━━━━━━━━━━━━━━━━━━━━━━━━━━━━━━━━━━━━━━\u001b[0m \u001b[32m2.2/2.2 MB\u001b[0m \u001b[31m12.3 MB/s\u001b[0m eta \u001b[36m0:00:00\u001b[0m\n",
      "\u001b[?25hInstalling collected packages: xgboost\n",
      "Successfully installed xgboost-3.0.0\n"
     ]
    }
   ],
   "source": [
    "!pip install xgboost"
   ]
  },
  {
   "cell_type": "code",
   "execution_count": 9,
   "id": "69470cac-7695-4d36-8e0e-770e3c51e4e8",
   "metadata": {},
   "outputs": [
    {
     "name": "stdout",
     "output_type": "stream",
     "text": [
      "Random Forest Regression Metrics:\n",
      "MSE: 20778167.325470977\n",
      "MAE: 2449.9186935109196\n",
      "R²: 0.8661620798713451\n",
      "\n",
      "XGBoost Regression Metrics:\n",
      "MSE: 19297348.78972114\n",
      "MAE: 2449.7116339037575\n",
      "R²: 0.8757004414509906\n"
     ]
    }
   ],
   "source": [
    "from sklearn.ensemble import RandomForestRegressor\n",
    "from xgboost import XGBRegressor\n",
    "from sklearn.metrics import mean_squared_error, mean_absolute_error, r2_score\n",
    "\n",
    "# Initialize models\n",
    "rf_model = RandomForestRegressor(random_state=42)\n",
    "xgb_model = XGBRegressor(\n",
    "    n_estimators=100,  # number of trees\n",
    "    learning_rate=0.1,\n",
    "    max_depth=5,\n",
    "    random_state=42\n",
    ")\n",
    "\n",
    "# Train models\n",
    "rf_model.fit(X_train, y_train)\n",
    "xgb_model.fit(X_train, y_train)\n",
    "\n",
    "# Predict on test set\n",
    "y_pred_rf = rf_model.predict(X_test)\n",
    "y_pred_xgb = xgb_model.predict(X_test)\n",
    "\n",
    "# Evaluate models using regression metrics\n",
    "print(\"Random Forest Regression Metrics:\")\n",
    "print(f\"MSE: {mean_squared_error(y_test, y_pred_rf)}\")\n",
    "print(f\"MAE: {mean_absolute_error(y_test, y_pred_rf)}\")\n",
    "print(f\"R²: {r2_score(y_test, y_pred_rf)}\")\n",
    "\n",
    "print(\"\\nXGBoost Regression Metrics:\")\n",
    "print(f\"MSE: {mean_squared_error(y_test, y_pred_xgb)}\")\n",
    "print(f\"MAE: {mean_absolute_error(y_test, y_pred_xgb)}\")\n",
    "print(f\"R²: {r2_score(y_test, y_pred_xgb)}\")"
   ]
  },
  {
   "cell_type": "markdown",
   "id": "2bfdf586-b2c3-4b7f-95d1-ad69e8bf505e",
   "metadata": {},
   "source": [
    "- Mean Squared Error (MSE): Measures average squared difference between predicted and actual values\n",
    "- Mean Absolute Error (MAE): Measures average absolute difference between predicted and actual values\n",
    "- R² Score: Indicates how well the model explains the variance in the data"
   ]
  },
  {
   "cell_type": "markdown",
   "id": "365d7937-e71a-4e60-a3ff-8636cfac0f0f",
   "metadata": {},
   "source": [
    "XGBoost Model shows a better performance. "
   ]
  },
  {
   "cell_type": "markdown",
   "id": "17f693bd-ff99-45a7-ac15-efb3a0d4c669",
   "metadata": {},
   "source": [
    "# 4. Hyperparameter Tuning"
   ]
  },
  {
   "cell_type": "code",
   "execution_count": 17,
   "id": "64cddeea-8ac1-4101-9bb3-ed5a4eb74e33",
   "metadata": {},
   "outputs": [
    {
     "name": "stdout",
     "output_type": "stream",
     "text": [
      "Best parameters: {'learning_rate': 0.01, 'max_depth': 3, 'n_estimators': 500}\n"
     ]
    }
   ],
   "source": [
    "from sklearn.model_selection import GridSearchCV\n",
    "\n",
    "# Define parameter grid for XGBoost with wider rangess\n",
    "param_grid = {\n",
    "    'n_estimators': [100, 200, 300, 500,1000],\n",
    "    'learning_rate': [0.01, 0.05, 0.1, 0.2],\n",
    "    'max_depth': [3, 5, 7, 9]\n",
    "}\n",
    "\n",
    "# Grid search for XGBoost\n",
    "grid_search = GridSearchCV(\n",
    "    estimator=xgb_model, \n",
    "    param_grid=param_grid,\n",
    "    cv=5, #5-fold cross-validation\n",
    "    scoring='neg_mean_squared_error',\n",
    "    n_jobs=-1 # use all available cores\n",
    ")\n",
    "\n",
    "# Fit grid search\n",
    "grid_search.fit(X_train, y_train)\n",
    "\n",
    "# Access best parameters and results\n",
    "best_params = grid_search.best_params_\n",
    "best_score = grid_search.best_score_\n",
    "\n",
    "print(\"Best parameters:\", best_params)"
   ]
  },
  {
   "cell_type": "markdown",
   "id": "577db9b3-3c8e-495f-be25-5ed2149c5f29",
   "metadata": {},
   "source": [
    "# 5. Final model"
   ]
  },
  {
   "cell_type": "code",
   "execution_count": 29,
   "id": "05921d12-bdb3-4e69-989d-9daab962de9d",
   "metadata": {},
   "outputs": [
    {
     "name": "stdout",
     "output_type": "stream",
     "text": [
      "Mean Absolute Error: 2493.6467092765274\n"
     ]
    }
   ],
   "source": [
    "# Refining the model\n",
    "final_model = XGBRegressor(\n",
    "    n_estimators=500,  # number of trees\n",
    "    learning_rate=0.01,\n",
    "    max_depth=3,\n",
    "    random_state=42\n",
    ")\n",
    "\n",
    "final_model.fit(X_train, y_train)\n",
    "y_pred_final = final_model.predict(X_test)\n",
    "print(\"Mean Absolute Error: \" + str(mean_absolute_error(y_pred_final, y_test)))"
   ]
  },
  {
   "cell_type": "markdown",
   "id": "805ca966-26d8-445d-9d5b-672bcbdcce4f",
   "metadata": {},
   "source": [
    "# 6. Model Evaluation\n",
    "## 1. Accuracy, Precision, Recal, F1-score"
   ]
  },
  {
   "cell_type": "code",
   "execution_count": 45,
   "id": "186c3790-e093-46c2-bc1e-1776d9821afd",
   "metadata": {},
   "outputs": [
    {
     "name": "stdout",
     "output_type": "stream",
     "text": [
      "<class 'pandas.core.series.Series'>\n",
      "<class 'numpy.ndarray'>\n"
     ]
    }
   ],
   "source": [
    "print(type(y_test))\n",
    "print(type(y_pred_final))"
   ]
  },
  {
   "cell_type": "code",
   "execution_count": 87,
   "id": "6d561a20-472c-4e7c-960c-34a7986c78d5",
   "metadata": {},
   "outputs": [
    {
     "name": "stdout",
     "output_type": "stream",
     "text": [
      "XGBoost Regression Model Performance:\n",
      "\n",
      "Mean Absolute Error (MAE): 2449.71\n",
      "Mean Squared Error (MSE): 19297348.79\n",
      "Root Mean Squared Error (RMSE): 4392.87\n",
      "R² Score: 0.8757\n"
     ]
    },
    {
     "name": "stderr",
     "output_type": "stream",
     "text": [
      "/opt/anaconda3/lib/python3.12/site-packages/sklearn/metrics/_regression.py:492: FutureWarning: 'squared' is deprecated in version 1.4 and will be removed in 1.6. To calculate the root mean squared error, use the function'root_mean_squared_error'.\n",
      "  warnings.warn(\n"
     ]
    }
   ],
   "source": [
    "from sklearn.metrics import accuracy_score, classification_report\n",
    "\n",
    "# Evaluate the model\n",
    "mae = mean_absolute_error(y_test, y_pred_xgb)\n",
    "mse = mean_squared_error(y_test, y_pred_xgb)\n",
    "rmse = mean_squared_error(y_test, y_pred_xgb, squared=False)  # RMSE is sqrt of MSE\n",
    "r2 = r2_score(y_test, y_pred_xgb)\n",
    "\n",
    "# Print evaluation metrics\n",
    "print(\"XGBoost Regression Model Performance:\\n\")\n",
    "print(f\"Mean Absolute Error (MAE): {mae:.2f}\")\n",
    "print(f\"Mean Squared Error (MSE): {mse:.2f}\")\n",
    "print(f\"Root Mean Squared Error (RMSE): {rmse:.2f}\")\n",
    "print(f\"R² Score: {r2:.4f}\")"
   ]
  },
  {
   "cell_type": "markdown",
   "id": "56af51be-52f0-4dc5-ae9d-472ca9dc926e",
   "metadata": {},
   "source": [
    "## ROC-AUC Curv & Score\n",
    "The ROC-AUC score shows how well the model distinguishes between classes. A higher score (closer to 1) means better performance.\n",
    "\n",
    "Since ROC-AUC is a classification metric it cannot be used for regression. Instead we use a residual plot and a prediction vs Actual plot to visualise performance."
   ]
  },
  {
   "cell_type": "markdown",
   "id": "3abd23d9-6300-490f-a374-01823b54aa10",
   "metadata": {},
   "source": [
    "### Residual Plot\n",
    "Shows how far predictions are from actual values"
   ]
  },
  {
   "cell_type": "code",
   "execution_count": 89,
   "id": "b2ed6fbe-444d-43c4-b74b-55d7fd6ca427",
   "metadata": {},
   "outputs": [
    {
     "data": {
      "image/png": "[encoded data removed]",
      "text/plain": [
       "<Figure size 600x400 with 1 Axes>"
      ]
     },
     "metadata": {},
     "output_type": "display_data"
    }
   ],
   "source": [
    "import matplotlib.pyplot as plt\n",
    "import seaborn as sns\n",
    "\n",
    "# Calculate residuals\n",
    "residuals = y_test - y_pred_xgb\n",
    "\n",
    "# Plot residuals\n",
    "plt.figure(figsize=(6, 4))\n",
    "sns.histplot(residuals, bins=30, kde=True, color=\"blue\")\n",
    "plt.axvline(x=0, color=\"red\", linestyle=\"--\")  # Reference line at 0\n",
    "plt.title(\"Residual Distribution\")\n",
    "plt.xlabel(\"Residual (Actual - Predicted)\")\n",
    "plt.ylabel(\"Frequency\")\n",
    "plt.show()"
   ]
  },
  {
   "cell_type": "markdown",
   "id": "a998def9-8f02-44a0-b7bb-3fb0666edbdc",
   "metadata": {},
   "source": [
    "**Conclusions from Residual plot:**\n",
    "- Distribution shape: the residuals follow roughly a normal distribution witha  peak centered closed to zero, which is a positive sign for a regression model.\n",
    "- Central tendency: Most residuals are clustered around 0 indicating that many preductions are close to the actual values\n",
    "- Spread: The residulas range approximately from -10000 to +20000, with themajority falling between -5000 and +5000.\n",
    "- Potential outliers: There appear to be some outliers, particularlyon thepositive side (around 10000, 15000 and 20000) suggesting the model underestimate some values\n",
    "- Slight positive skew: The distribution shows a slight positive skew with a longer tail on the right side, indicating the model tends to underestimate more than overestimate.\n",
    "- Heteroscedascity: The plot doesn't show clear patterns of variance changing across the residual range, which is good for regression assumptions\n",
    "\n",
    "Overall, your model appears reasonably well-behaved but could potentially benefit from adressing the outliers and slight skew to improve prediction accuracy."
   ]
  },
  {
   "cell_type": "markdown",
   "id": "bc04d2a0-ac04-41f6-bc7d-730404dcb7cd",
   "metadata": {},
   "source": [
    "### Prediction vs. Actual plot\n",
    "Shows how close predictions are to actual values"
   ]
  },
  {
   "cell_type": "code",
   "execution_count": 96,
   "id": "89f478af-256a-456e-ac86-401259083632",
   "metadata": {},
   "outputs": [
    {
     "data": {
      "image/png": "[encoded data removed]",
      "text/plain": [
       "<Figure size 600x400 with 1 Axes>"
      ]
     },
     "metadata": {},
     "output_type": "display_data"
    }
   ],
   "source": [
    "plt.figure(figsize=(6, 4))\n",
    "sns.scatterplot(x=y_test, y=y_pred_xgb, alpha=0.6)\n",
    "plt.plot([y_test.min(), y_test.max()], [y_test.min(), y_test.max()], color=\"red\", linestyle=\"--\")  # Perfect predictions line\n",
    "plt.xlabel(\"Actual Insurance Charges\")\n",
    "plt.ylabel(\"Predicted Insurance Charges\")\n",
    "plt.title(\"Actual vs. Predicted Insurance Charges\")\n",
    "plt.show()"
   ]
  },
  {
   "cell_type": "markdown",
   "id": "7d99bfd0-8d55-4b52-ae00-c86a943a6e63",
   "metadata": {},
   "source": [
    "**Conclusions:**\n",
    "- Strong correlation: There's a clear positive linear relationship between actual and predicted values, with most points falling close to the diagonal red line, indicating good model performance.\n",
    "\n",
    "- Range accuracy: The model performs consistently across the entire range of insurance charges (from approximately 0 to 60,000).\n",
    "\n",
    "- Some prediction errors: Several points deviate from the ideal line, particularly in the:\n",
    "\n",
    "   - Mid-range (20,000-30,000) where some predictions appear lower than actual values\n",
    "   - High-range (40,000-60,000) where there's more scatter around the line\n",
    "\n",
    "- Potential underprediction: More points appear to fall below the diagonal line than above it, suggesting a slight tendency to underpredict insurance charges, especially for higher values.\n",
    "\n",
    "- Clustering pattern: There's a dense cluster of predictions in the lower range (0-15,000), indicating most insurance charges in your dataset fall within this range.\n",
    "\n",
    "- Overall fit: The model appears to fit the data well, with no obvious non-linear patterns that would suggest the model is missing important relationships.\n",
    "\n",
    "This plot confirms what the residual plot suggested - your XGBRegressor model is performing reasonably well but could potentially benefit from improvements to better handle some of the higher-value predictions."
   ]
  },
  {
   "cell_type": "markdown",
   "id": "b52739c1-82a6-4c3e-b81d-63aff75a513c",
   "metadata": {},
   "source": [
    "## Feature importance\n",
    "Understanding which features are most important can provide valuable insights."
   ]
  },
  {
   "cell_type": "code",
   "execution_count": 85,
   "id": "385e2fbc-bbd7-46f1-b932-0dc8692ebced",
   "metadata": {},
   "outputs": [
    {
     "data": {
      "image/png": "[encoded data removed]",
      "text/plain": [
       "<Figure size 800x500 with 1 Axes>"
      ]
     },
     "metadata": {},
     "output_type": "display_data"
    }
   ],
   "source": [
    "importances = final_model.feature_importances_\n",
    "feature_names = X_train.columns\n",
    "\n",
    "# Create a Dataframe for feature importance\n",
    "importance_df = pd.DataFrame({\"Feature\": feature_names, \"Importance\": importances})\n",
    "importance_df = importance_df.sort_values(by=\"Importance\", ascending=False)\n",
    "\n",
    "# Plot feature importance\n",
    "plt.figure(figsize=(8,5))\n",
    "sns.barplot(x=\"Importance\", y=\"Feature\", data=importance_df)\n",
    "plt.title(\"Feature Importance - XGBoost Model\")\n",
    "plt.show()"
   ]
  },
  {
   "cell_type": "markdown",
   "id": "a14c84ca-cb9f-4c41-921d-0f1acea33cd0",
   "metadata": {},
   "source": [
    "**Conclusions:**\n",
    "- Dominant predictor: \"smoker_encoded\" is by far the most important feature, with an importance score of approximately 0.8 (or 80%), suggesting that smoking status is the primary determinant of insurance charges.\n",
    "\n",
    "- Secondary factors: \"log_bmi_scaled\" is the second most important feature, but with significantly lower importance (around 0.15 or 15%), indicating that BMI has a moderate but much smaller impact than smoking status.\n",
    "\n",
    "- Tertiary factor: \"age_scaled\" is the third most important feature, with importance around 0.05 (5%), showing that age plays a small but meaningful role in predicting insurance charges.\n",
    "\n",
    "- Minor contributors: The remaining features (child variables, region variables, and sex_encoded) all have very low importance scores (below 0.05), indicating they contribute minimally to the model's predictions.\n",
    "\n",
    "- Business implications: This suggests that insurance pricing is heavily influenced by whether a person smokes, with some consideration for their BMI and age, while other demographic factors play relatively minor roles.\n",
    "\n",
    "- Model focus: The extreme dominance of the smoking variable suggests the model might be primarily distinguishing between two groups (smokers vs. non-smokers) rather than capturing more nuanced relationships across all variables.\n",
    "\n",
    "- Feature engineering effectiveness: The logarithmic transformation of BMI appears to have been effective since it emerged as the second most important feature.\n",
    "\n",
    "This information could be valuable for both understanding the insurance pricing structure and for potential customers to understand what factors most heavily influence their insurance costs."
   ]
  },
  {
   "cell_type": "markdown",
   "id": "98ca8711-d009-49c4-a53a-7eb40d11ac2f",
   "metadata": {},
   "source": [
    "# 7. Conclusion & Next steps\n",
    "## Overall summary\n",
    "XGBoost model performs reasonably well in predicting health insurance charges. The residual plot suggests that most predictions are close to actual values, with some underestimation in higher charge ranges. The actual vs. predicted plot confirms strong correlation but highlights slight underprediction for high-cost policies. Feature importance analysis shows that smoking status is by far the most influential predictor, followed by BMI and age, while other demographic factors contribute minimally."
   ]
  },
  {
   "cell_type": "markdown",
   "id": "e0ead20a-25a6-4ac3-926c-1d615779a88a",
   "metadata": {},
   "source": [
    "## Next steps for model improvement\n",
    "1. Address Outliers\n",
    "- Winsorize or cap extreme values (e.g., top 1% of charges).\n",
    "- Consider transforming high-value predictions (e.g., log-transforming target variable).\n",
    "\n",
    "2. Reduce Underprediction for High Values\n",
    "- Experiment with quantile regression or custom loss functions that penalize underestimation more.\n",
    "- Use hyperparameter tuning (e.g., adjusting learning rate, tree depth, gamma in XGBoost).\n",
    "\n",
    "3. Feature Engineering Enhancements\n",
    "- Investigate interaction terms (e.g., smoker × age, smoker × BMI).\n",
    "- Explore polynomial or non-linear transformations for age and BMI."
   ]
  },
  {
   "cell_type": "markdown",
   "id": "a66de9b8-ce94-4a6f-8320-7259605660f7",
   "metadata": {},
   "source": [
    "# 8. Applying the model to Pricing\n",
    "- Assuming we want premium = predicted charges, this is a 100% loss ratio pricing model (insurers break even).\n",
    "- To adjust for profitability and risk, consider adding:\n",
    "   - A loading factor (e.g., 110% × predicted charges for a 90% loss ratio).\n",
    "   - Uncertainty adjustments (e.g., using prediction intervals instead of point estimates).\n",
    "   - A risk segmentation strategy (adjust pricing based on predicted vs. actual errors in different subgroups).\n",
    "\n",
    "The goal is to use the predicted insurance charges as the premium in a 100% loss ratio pricing model. However, pricing models in insurance typically adjust for risk factors, profitability, and market competitiveness. Below, I break down how we could structure a more robust pricing model based on the key insights from feature importance analysis."
   ]
  },
  {
   "cell_type": "markdown",
   "id": "dea0188b-b9f6-4613-b0f1-85e3a24531dd",
   "metadata": {},
   "source": [
    "## 1️⃣ Base Pricing Model: Direct Prediction Approach\n",
    "The simplest approach is to set the premium equal to the model's predicted charge:\n",
    "\n",
    "    Premium =  Y(predicted insurance charge from XGBoost)\n",
    "\n",
    "This ensures that the expected loss ratio is 100%, meaning the insurer would break even (before expenses). However, this approach does not account for risk variations, competitive adjustments, or business goals.## "
   ]
  },
  {
   "cell_type": "markdown",
   "id": "7533d5bf-4e36-40fb-bbe9-230abfe595b6",
   "metadata": {},
   "source": [
    "## 2️⃣ Adjusting for Key Risk Factors\n",
    "From your feature importance analysis, three main variables drive insurance costs:\n",
    "- Smoker status (dominant factor, ~80%)\n",
    "- BMI (moderate impact, ~15%)\n",
    "- Age (small but meaningful impact, ~5%)\n",
    "\n",
    "Since smoking, BMI, and age significantly influence claims, the pricing model should reflect their impact explicitly. Here’s how we cuold incorporate them: \n",
    "\n",
    "### 🏥 Smoker vs. Non-Smoker: Separate Pricing Segments\n",
    "Smokers tend to have much higher claims, so their premiums should be significantly higher.\n",
    "\n",
    "Instead of using a single model, build separate pricing models or apply smoker-specific multipliers:\n",
    "    \n",
    "    Premium_smokers = Y x (1 + smoker surcharge)\n",
    "    Premium_non_smokers = Y\n",
    "\n",
    "Where Y is the predicted value.\n",
    "\n",
    "- The smoker surcharge could be estimated using the XGBoost feature importance or observed claim ratios.\n",
    "- If the model already captures this difference well, we can verify by analyzing actual vs. predicted charges separately for smokers and non-smokers.\n",
    "\n",
    "### ⚖️ BMI: Non-Linear Pricing Adjustment\n",
    "- Higher BMI correlates with higher claims, but the relationship might not be linear.\n",
    "- We can apply tiered pricing based on BMI categories:\n",
    "   - Normal (18.5 - 24.9)    --> Base Premium\n",
    "   - Overweight (25 - 29.9)  --> +10% premium\n",
    "   - Obese (30 - 34.9)       --> +20% premium\n",
    "   - Severe obesity (35+)    --> +30% premium\n",
    "- These multipliers can be learned from the XGBoost feature effects or from historical claims data.\n",
    "\n",
    "### 👴 Age: Risk-Based Premium Scaling\n",
    "- Older policyholders tend to have higher claims, but not necessarily linearly.\n",
    "- A common approach is to apply an age factor:\n",
    "\n",
    "    Age Factor = 1 + alpha (age - 40)\n",
    "\n",
    "- The coefficient alpha can be estimated from the model's impact on predicted charges\n",
    "\n",
    "## 3️⃣ Accounting for Uncertainty: Confidence Intervals for Pricing\n",
    "Instead of using point predictions, consider prediction intervals (e.g., 95% confidence range):\n",
    "\n",
    "    Premium - Y + k + theta_y\n",
    "\n",
    "- k is a safety margin (typically between 1.1 and 1.3 for 90%-95% confidence level)\n",
    "- theta_y is the standard deviation of residuals (uncertainty prediction)\n",
    "\n",
    "## 4️⃣ Adding a Loading for Profitability & Expenses\n",
    "Insurers need to cover expenses, commissions, and profit margins. This is done by applying a loading factor:\n",
    "\n",
    "    Final Premium = Base Premium x (1 + Expense loading + Profit margin)\n",
    "\n",
    "- Expense Loading = Covers administrative costs, distribution, underwriting. Typically 10%-30%.\n",
    "- Profit Margin = Ensures sustainable pricing, typically 5%-15%, depending on competition.\n",
    "\n",
    "For example, if the base premium is €5000 and we assume a 10% expense loading and 10% profit margin:\n",
    "\n",
    "    Final premium = 5000 x (1.1 +0.1) = 6000\n",
    "\n",
    "## 5️⃣ Final Pricing Model Formula\n",
    "Bringing everything together, the final premium can be structured as:\n",
    "\n",
    "    Premium = (Y x Risk adjustments) + k x theta_y\n",
    "\n",
    "    Final Premium = Premium x (1 + Expense loading + Profit margin)\n",
    "\n",
    "## 6️⃣ Next Steps for Implementation\n",
    "1. Validate segment-specific predictions\n",
    "   - Compare actual vs. predicted charges separately for smokers, high BMI groups, and older policyholders.\n",
    "\n",
    "2. Estimate risk-based multipliers\n",
    "   - Use XGBoost’s feature contributions to derive optimal adjustments (e.g., how much more should smokers pay?).\n",
    "\n",
    "3. Test different profit & expense loadings\n",
    "   - Simulate different expense & profit scenarios to ensure competitive pricing.\n",
    "\n",
    "4. Explore quantile regression for better tail risk modeling\n",
    "   - This helps reduce underprediction in high-cost cases."
   ]
  }
 ],
 "metadata": {
  "kernelspec": {
   "display_name": "Python [conda env:base] *",
   "language": "python",
   "name": "conda-base-py"
  },
  "language_info": {
   "codemirror_mode": {
    "name": "ipython",
    "version": 3
   },
   "file_extension": ".py",
   "mimetype": "text/x-python",
   "name": "python",
   "nbconvert_exporter": "python",
   "pygments_lexer": "ipython3",
   "version": "3.12.7"
  }
 },
 "nbformat": 4,
 "nbformat_minor": 5
}
